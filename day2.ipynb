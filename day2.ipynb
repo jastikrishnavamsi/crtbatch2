{
 "cells": [
  {
   "cell_type": "markdown",
   "metadata": {},
   "source": [
    "# functions:\n",
    "- ***code reuseability***\n",
    "- ***simpler***\n",
    "- ***program can be divided into subprogram***"
   ]
  },
  {
   "cell_type": "markdown",
   "metadata": {},
   "source": [
    "# syntax:\n",
    "- def functionname():\n",
    "    - statements\n",
    "    - return"
   ]
  },
  {
   "cell_type": "code",
   "execution_count": 9,
   "metadata": {},
   "outputs": [
    {
     "name": "stdout",
     "output_type": "stream",
     "text": [
      "123456789\n",
      "20\n"
     ]
    }
   ],
   "source": [
    "def sums(a):\n",
    "    s=0\n",
    "    while a!=0:\n",
    "        b=a%10\n",
    "        if b%2==0:\n",
    "            s=s+b\n",
    "        a=int(a/10)\n",
    "    return s\n",
    "a=int(input())\n",
    "a=sums(a)\n",
    "print(a)"
   ]
  },
  {
   "cell_type": "code",
   "execution_count": 2,
   "metadata": {},
   "outputs": [
    {
     "name": "stdout",
     "output_type": "stream",
     "text": [
      "514365\n",
      "6\n"
     ]
    }
   ],
   "source": [
    "def sums(a):\n",
    "    s=0\n",
    "    while a!=0:\n",
    "        b=a%10\n",
    "        if s<b:\n",
    "            s=b\n",
    "        a=a//10\n",
    "    return s\n",
    "a=int(input())\n",
    "a=sums(a)\n",
    "print(a)"
   ]
  },
  {
   "cell_type": "code",
   "execution_count": 12,
   "metadata": {},
   "outputs": [
    {
     "name": "stdout",
     "output_type": "stream",
     "text": [
      "123\n",
      "121\n",
      "456\n",
      "[123, 121, 456]\n"
     ]
    }
   ],
   "source": [
    "a=[]\n",
    "for x in range(1,4):\n",
    "    b=int(input())\n",
    "    a.append(b)\n",
    "print(a)"
   ]
  },
  {
   "cell_type": "code",
   "execution_count": 17,
   "metadata": {},
   "outputs": [
    {
     "name": "stdout",
     "output_type": "stream",
     "text": [
      "['good', 'morning']\n"
     ]
    }
   ],
   "source": [
    "a='good morning'\n",
    "a=a.split()\n",
    "print(a)"
   ]
  }
 ],
 "metadata": {
  "kernelspec": {
   "display_name": "Python 3",
   "language": "python",
   "name": "python3"
  },
  "language_info": {
   "codemirror_mode": {
    "name": "ipython",
    "version": 3
   },
   "file_extension": ".py",
   "mimetype": "text/x-python",
   "name": "python",
   "nbconvert_exporter": "python",
   "pygments_lexer": "ipython3",
   "version": "3.7.3"
  }
 },
 "nbformat": 4,
 "nbformat_minor": 2
}
